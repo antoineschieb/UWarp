{
 "cells": [
  {
   "cell_type": "code",
   "execution_count": null,
   "metadata": {},
   "outputs": [],
   "source": [
    "import openslide as op\n",
    "import numpy as np\n",
    "\n",
    "from src.data import get_patch, get_random_valid_points, display_overlapping_patches\n",
    "from src.region import Region\n",
    "from src.slide_reg import SlideReg, Warper\n"
   ]
  },
  {
   "cell_type": "code",
   "execution_count": null,
   "metadata": {},
   "outputs": [],
   "source": [
    "fixed_slide = op.open_slide(\"/path/to/fixed/slide.svs\")\n",
    "moving_slide = op.open_slide(\"/path/to/moving/slide.svs\")\n",
    "\n",
    "reg_id = \"example_registration\""
   ]
  },
  {
   "cell_type": "markdown",
   "metadata": {},
   "source": [
    "## Compute and save registration object"
   ]
  },
  {
   "cell_type": "code",
   "execution_count": null,
   "metadata": {},
   "outputs": [
    {
     "name": "stderr",
     "output_type": "stream",
     "text": [
      "  0%|          | 0/49 [00:00<?, ?it/s]IProgress not found. Please update jupyter and ipywidgets. See https://ipywidgets.readthedocs.io/en/stable/user_install.html\n",
      "100%|██████████| 49/49 [04:01<00:00,  4.92s/it]\n"
     ]
    },
    {
     "name": "stdout",
     "output_type": "stream",
     "text": [
      "41 landmarks of sufficient quality were kept.\n",
      "time: 299.3654165419284\n"
     ]
    }
   ],
   "source": [
    "r = SlideReg(reg_id, fixed_slide, moving_slide, N_landmarks=50, verbose=False)\n",
    "r.main_registration()"
   ]
  },
  {
   "cell_type": "markdown",
   "metadata": {},
   "source": [
    "## Load warper object from saved registration"
   ]
  },
  {
   "cell_type": "code",
   "execution_count": 4,
   "metadata": {},
   "outputs": [],
   "source": [
    "warper_object = Warper(reg_id, fixed_slide, moving_slide)"
   ]
  },
  {
   "cell_type": "markdown",
   "metadata": {},
   "source": [
    "## Display a few examples"
   ]
  },
  {
   "cell_type": "code",
   "execution_count": null,
   "metadata": {},
   "outputs": [],
   "source": [
    "coords = get_random_valid_points(find_slidepath_for_scanner_Cypath(sample_id, scanner_fixed), fixed_slide.dimensions, N=3)\n",
    "for x,y in coords:\n",
    "    r = Region(x,y,0,512,512)\n",
    "    r_eq = warper_object.warp_region(r, correction_type=\"linear\")\n",
    "    p0 = get_patch(fixed_slide, r)\n",
    "    p1 = get_patch(moving_slide, r_eq)\n",
    "    if np.sum(p0) == 0 or np.sum(p1) == 0:\n",
    "        continue\n",
    "    \n",
    "    display(display_overlapping_patches(p0,p1,rotate=warper_object.rotation))\n"
   ]
  }
 ],
 "metadata": {
  "kernelspec": {
   "display_name": "patch-domain-correlation-0rgV4_kp-py3.10",
   "language": "python",
   "name": "python3"
  },
  "language_info": {
   "codemirror_mode": {
    "name": "ipython",
    "version": 3
   },
   "file_extension": ".py",
   "mimetype": "text/x-python",
   "name": "python",
   "nbconvert_exporter": "python",
   "pygments_lexer": "ipython3",
   "version": "3.10.16"
  }
 },
 "nbformat": 4,
 "nbformat_minor": 2
}
